{
  "nbformat": 4,
  "nbformat_minor": 0,
  "metadata": {
    "colab": {
      "name": "Untitled2.ipynb",
      "provenance": []
    },
    "kernelspec": {
      "name": "python3",
      "display_name": "Python 3"
    },
    "language_info": {
      "name": "python"
    }
  },
  "cells": [
    {
      "cell_type": "code",
      "metadata": {
        "id": "-6ZYzYLLrpYe"
      },
      "source": [
        "import numpy as np\n",
        "arr1=np.array([2,3,7,5,1,6],dtype='int')"
      ],
      "execution_count": 42,
      "outputs": []
    },
    {
      "cell_type": "code",
      "metadata": {
        "id": "k1LZDs7DCFfM"
      },
      "source": [
        "arr2=np.array([9,0,3,2,7,],dtype='int')"
      ],
      "execution_count": 43,
      "outputs": []
    },
    {
      "cell_type": "code",
      "metadata": {
        "id": "Q6tLRrLICQ6R"
      },
      "source": [
        "arr3=np.array([],dtype='int')\n",
        "for i in arr1:\n",
        "  if i in arr2:\n",
        "    arr3=np.append(arr3,i)"
      ],
      "execution_count": 44,
      "outputs": []
    },
    {
      "cell_type": "code",
      "metadata": {
        "colab": {
          "base_uri": "https://localhost:8080/"
        },
        "id": "7gZCZ3pgDCdM",
        "outputId": "f07586d1-872e-4d28-b161-d7c0efb163ff"
      },
      "source": [
        "arr3"
      ],
      "execution_count": 45,
      "outputs": [
        {
          "output_type": "execute_result",
          "data": {
            "text/plain": [
              "array([2, 3, 7])"
            ]
          },
          "metadata": {},
          "execution_count": 45
        }
      ]
    }
  ]
}