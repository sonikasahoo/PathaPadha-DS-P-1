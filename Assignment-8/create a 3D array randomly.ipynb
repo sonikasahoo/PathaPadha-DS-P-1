{
  "nbformat": 4,
  "nbformat_minor": 0,
  "metadata": {
    "colab": {
      "name": "Untitled4.ipynb",
      "provenance": []
    },
    "kernelspec": {
      "name": "python3",
      "display_name": "Python 3"
    },
    "language_info": {
      "name": "python"
    }
  },
  "cells": [
    {
      "cell_type": "code",
      "metadata": {
        "id": "72QArrJrHLD-"
      },
      "source": [
        "import numpy as np"
      ],
      "execution_count": 1,
      "outputs": []
    },
    {
      "cell_type": "code",
      "metadata": {
        "id": "6tu_pPhhHtxN"
      },
      "source": [
        "arr=np.random.random((3,3,3))"
      ],
      "execution_count": 17,
      "outputs": []
    },
    {
      "cell_type": "code",
      "metadata": {
        "colab": {
          "base_uri": "https://localhost:8080/"
        },
        "id": "nlKaJP8_ILrG",
        "outputId": "36dd4edd-7758-49e0-cbf6-6d1990550a63"
      },
      "source": [
        "arr"
      ],
      "execution_count": 18,
      "outputs": [
        {
          "output_type": "execute_result",
          "data": {
            "text/plain": [
              "array([[[0.99454271, 0.6419214 , 0.61084649],\n",
              "        [0.0777975 , 0.06141662, 0.42731213],\n",
              "        [0.14779255, 0.95796979, 0.44627438]],\n",
              "\n",
              "       [[0.5877855 , 0.05095291, 0.70422544],\n",
              "        [0.50618799, 0.20383664, 0.25429137],\n",
              "        [0.57150307, 0.47761567, 0.16943372]],\n",
              "\n",
              "       [[0.62137716, 0.19083977, 0.15934028],\n",
              "        [0.72115979, 0.16160708, 0.16527911],\n",
              "        [0.59701797, 0.77110097, 0.00993986]]])"
            ]
          },
          "metadata": {},
          "execution_count": 18
        }
      ]
    }
  ]
}