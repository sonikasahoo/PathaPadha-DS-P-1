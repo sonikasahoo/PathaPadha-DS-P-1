{
  "nbformat": 4,
  "nbformat_minor": 0,
  "metadata": {
    "colab": {
      "name": "Untitled5.ipynb",
      "provenance": []
    },
    "kernelspec": {
      "name": "python3",
      "display_name": "Python 3"
    },
    "language_info": {
      "name": "python"
    }
  },
  "cells": [
    {
      "cell_type": "code",
      "metadata": {
        "id": "yPO6y4KKJu3T"
      },
      "source": [
        "import numpy as np"
      ],
      "execution_count": 1,
      "outputs": []
    },
    {
      "cell_type": "code",
      "metadata": {
        "id": "D3XBqE7WJ1uW"
      },
      "source": [
        "arr=np.random.random((5,5))"
      ],
      "execution_count": 13,
      "outputs": []
    },
    {
      "cell_type": "code",
      "metadata": {
        "colab": {
          "base_uri": "https://localhost:8080/"
        },
        "id": "qREmVxw7KrRv",
        "outputId": "cf5b8e2c-91ed-4c68-8e3d-f711d05e1fef"
      },
      "source": [
        "arr"
      ],
      "execution_count": 14,
      "outputs": [
        {
          "output_type": "execute_result",
          "data": {
            "text/plain": [
              "array([[0.43089145, 0.11647998, 0.42442044, 0.46165825, 0.26629201],\n",
              "       [0.7841097 , 0.18840186, 0.99507045, 0.36104856, 0.96618162],\n",
              "       [0.74391275, 0.15099438, 0.86121328, 0.26426797, 0.33025208],\n",
              "       [0.16614451, 0.84945055, 0.14805202, 0.17163073, 0.23337276],\n",
              "       [0.94321238, 0.52560899, 0.65510097, 0.53992748, 0.90609882]])"
            ]
          },
          "metadata": {},
          "execution_count": 14
        }
      ]
    },
    {
      "cell_type": "code",
      "metadata": {
        "colab": {
          "base_uri": "https://localhost:8080/"
        },
        "id": "ZUPvv9mRKrcg",
        "outputId": "c5be4945-c419-4615-94c3-d38b4560f917"
      },
      "source": [
        "np.max(arr)"
      ],
      "execution_count": 15,
      "outputs": [
        {
          "output_type": "execute_result",
          "data": {
            "text/plain": [
              "0.995070453837518"
            ]
          },
          "metadata": {},
          "execution_count": 15
        }
      ]
    },
    {
      "cell_type": "code",
      "metadata": {
        "colab": {
          "base_uri": "https://localhost:8080/"
        },
        "id": "srcZRDCGJ9Rd",
        "outputId": "1d90e328-d8a0-44cb-c37c-1a1e3d29e50c"
      },
      "source": [
        "np.min(arr)"
      ],
      "execution_count": 16,
      "outputs": [
        {
          "output_type": "execute_result",
          "data": {
            "text/plain": [
              "0.11647998081155364"
            ]
          },
          "metadata": {},
          "execution_count": 16
        }
      ]
    }
  ]
}