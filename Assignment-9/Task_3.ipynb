{
  "nbformat": 4,
  "nbformat_minor": 0,
  "metadata": {
    "colab": {
      "name": "Untitled4.ipynb",
      "provenance": [],
      "collapsed_sections": []
    },
    "kernelspec": {
      "name": "python3",
      "display_name": "Python 3"
    },
    "language_info": {
      "name": "python"
    }
  },
  "cells": [
    {
      "cell_type": "markdown",
      "metadata": {
        "id": "qL_Uw6teYV2t"
      },
      "source": [
        "#Write a Pandas program to split a dataset to group by two columns and then sort the aggregated results within the groups.\n",
        "In the following dataset group on 'customer_id', 'salesman_id' and then sort sum of purch_amt within the groups."
      ]
    },
    {
      "cell_type": "code",
      "metadata": {
        "id": "72QArrJrHLD-"
      },
      "source": [
        "import pandas as pd"
      ],
      "execution_count": 1,
      "outputs": []
    },
    {
      "cell_type": "code",
      "metadata": {
        "id": "cX32c-dBZA9l"
      },
      "source": [
        "df=pd.DataFrame({'ord_no':[70001,70009,70002,70004,70007,70005,70008],'purch_amt':[150.5,270.65,65.26,110.5,948.5,2400.6,5760],'ord_date': ['2012-10-05','2012-09-10','2012-10-05','2012-08-17','2012-09-10','2012-07-27','2012-09-10'],'customer_id':[3005,3001,3002,3009,3005,3007,3002],'salesman_id': [5002,5005,5001,5003,5002,5001,5001]})"
      ],
      "execution_count": 2,
      "outputs": []
    },
    {
      "cell_type": "code",
      "metadata": {
        "colab": {
          "base_uri": "https://localhost:8080/",
          "height": 269
        },
        "id": "WJOiEvHEZD7N",
        "outputId": "c88ea252-5837-4be6-b9e7-9e64d5d92e05"
      },
      "source": [
        "df"
      ],
      "execution_count": 4,
      "outputs": [
        {
          "output_type": "execute_result",
          "data": {
            "text/html": [
              "<div>\n",
              "<style scoped>\n",
              "    .dataframe tbody tr th:only-of-type {\n",
              "        vertical-align: middle;\n",
              "    }\n",
              "\n",
              "    .dataframe tbody tr th {\n",
              "        vertical-align: top;\n",
              "    }\n",
              "\n",
              "    .dataframe thead th {\n",
              "        text-align: right;\n",
              "    }\n",
              "</style>\n",
              "<table border=\"1\" class=\"dataframe\">\n",
              "  <thead>\n",
              "    <tr style=\"text-align: right;\">\n",
              "      <th></th>\n",
              "      <th>ord_no</th>\n",
              "      <th>purch_amt</th>\n",
              "      <th>ord_date</th>\n",
              "      <th>customer_id</th>\n",
              "      <th>salesman_id</th>\n",
              "    </tr>\n",
              "  </thead>\n",
              "  <tbody>\n",
              "    <tr>\n",
              "      <th>0</th>\n",
              "      <td>70001</td>\n",
              "      <td>150.50</td>\n",
              "      <td>2012-10-05</td>\n",
              "      <td>3005</td>\n",
              "      <td>5002</td>\n",
              "    </tr>\n",
              "    <tr>\n",
              "      <th>1</th>\n",
              "      <td>70009</td>\n",
              "      <td>270.65</td>\n",
              "      <td>2012-09-10</td>\n",
              "      <td>3001</td>\n",
              "      <td>5005</td>\n",
              "    </tr>\n",
              "    <tr>\n",
              "      <th>2</th>\n",
              "      <td>70002</td>\n",
              "      <td>65.26</td>\n",
              "      <td>2012-10-05</td>\n",
              "      <td>3002</td>\n",
              "      <td>5001</td>\n",
              "    </tr>\n",
              "    <tr>\n",
              "      <th>3</th>\n",
              "      <td>70004</td>\n",
              "      <td>110.50</td>\n",
              "      <td>2012-08-17</td>\n",
              "      <td>3009</td>\n",
              "      <td>5003</td>\n",
              "    </tr>\n",
              "    <tr>\n",
              "      <th>4</th>\n",
              "      <td>70007</td>\n",
              "      <td>948.50</td>\n",
              "      <td>2012-09-10</td>\n",
              "      <td>3005</td>\n",
              "      <td>5002</td>\n",
              "    </tr>\n",
              "    <tr>\n",
              "      <th>5</th>\n",
              "      <td>70005</td>\n",
              "      <td>2400.60</td>\n",
              "      <td>2012-07-27</td>\n",
              "      <td>3007</td>\n",
              "      <td>5001</td>\n",
              "    </tr>\n",
              "    <tr>\n",
              "      <th>6</th>\n",
              "      <td>70008</td>\n",
              "      <td>5760.00</td>\n",
              "      <td>2012-09-10</td>\n",
              "      <td>3002</td>\n",
              "      <td>5001</td>\n",
              "    </tr>\n",
              "  </tbody>\n",
              "</table>\n",
              "</div>"
            ],
            "text/plain": [
              "   ord_no  purch_amt    ord_date  customer_id  salesman_id\n",
              "0   70001     150.50  2012-10-05         3005         5002\n",
              "1   70009     270.65  2012-09-10         3001         5005\n",
              "2   70002      65.26  2012-10-05         3002         5001\n",
              "3   70004     110.50  2012-08-17         3009         5003\n",
              "4   70007     948.50  2012-09-10         3005         5002\n",
              "5   70005    2400.60  2012-07-27         3007         5001\n",
              "6   70008    5760.00  2012-09-10         3002         5001"
            ]
          },
          "metadata": {},
          "execution_count": 4
        }
      ]
    },
    {
      "cell_type": "code",
      "metadata": {
        "id": "si3Id5ulZCNO"
      },
      "source": [
        "df1= df.groupby(['customer_id','salesman_id']).agg({'purch_amt':sum}).sort_values(\"purch_amt\")"
      ],
      "execution_count": 12,
      "outputs": []
    },
    {
      "cell_type": "code",
      "metadata": {
        "colab": {
          "base_uri": "https://localhost:8080/",
          "height": 238
        },
        "id": "3-sFDZ6Ibj3O",
        "outputId": "db6323ad-0f42-4dee-89d5-2dfbc22a4eb5"
      },
      "source": [
        "df1"
      ],
      "execution_count": 13,
      "outputs": [
        {
          "output_type": "execute_result",
          "data": {
            "text/html": [
              "<div>\n",
              "<style scoped>\n",
              "    .dataframe tbody tr th:only-of-type {\n",
              "        vertical-align: middle;\n",
              "    }\n",
              "\n",
              "    .dataframe tbody tr th {\n",
              "        vertical-align: top;\n",
              "    }\n",
              "\n",
              "    .dataframe thead th {\n",
              "        text-align: right;\n",
              "    }\n",
              "</style>\n",
              "<table border=\"1\" class=\"dataframe\">\n",
              "  <thead>\n",
              "    <tr style=\"text-align: right;\">\n",
              "      <th></th>\n",
              "      <th></th>\n",
              "      <th>purch_amt</th>\n",
              "    </tr>\n",
              "    <tr>\n",
              "      <th>customer_id</th>\n",
              "      <th>salesman_id</th>\n",
              "      <th></th>\n",
              "    </tr>\n",
              "  </thead>\n",
              "  <tbody>\n",
              "    <tr>\n",
              "      <th>3009</th>\n",
              "      <th>5003</th>\n",
              "      <td>110.50</td>\n",
              "    </tr>\n",
              "    <tr>\n",
              "      <th>3001</th>\n",
              "      <th>5005</th>\n",
              "      <td>270.65</td>\n",
              "    </tr>\n",
              "    <tr>\n",
              "      <th>3005</th>\n",
              "      <th>5002</th>\n",
              "      <td>1099.00</td>\n",
              "    </tr>\n",
              "    <tr>\n",
              "      <th>3007</th>\n",
              "      <th>5001</th>\n",
              "      <td>2400.60</td>\n",
              "    </tr>\n",
              "    <tr>\n",
              "      <th>3002</th>\n",
              "      <th>5001</th>\n",
              "      <td>5825.26</td>\n",
              "    </tr>\n",
              "  </tbody>\n",
              "</table>\n",
              "</div>"
            ],
            "text/plain": [
              "                         purch_amt\n",
              "customer_id salesman_id           \n",
              "3009        5003            110.50\n",
              "3001        5005            270.65\n",
              "3005        5002           1099.00\n",
              "3007        5001           2400.60\n",
              "3002        5001           5825.26"
            ]
          },
          "metadata": {},
          "execution_count": 13
        }
      ]
    }
  ]
}