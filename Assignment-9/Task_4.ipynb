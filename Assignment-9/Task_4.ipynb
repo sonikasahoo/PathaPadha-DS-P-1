{
  "nbformat": 4,
  "nbformat_minor": 0,
  "metadata": {
    "colab": {
      "name": "Task_4.ipynb",
      "provenance": [],
      "collapsed_sections": []
    },
    "kernelspec": {
      "name": "python3",
      "display_name": "Python 3"
    },
    "language_info": {
      "name": "python"
    }
  },
  "cells": [
    {
      "cell_type": "markdown",
      "metadata": {
        "id": "W5LXbtTzcTKO"
      },
      "source": [
        "#Write a Pandas program to remove the duplicates from 'WHO region' column of World alcohol consumption dataset.Write a Pandas program to remove the duplicates from 'WHO region' column of World alcohol consumption dataset."
      ]
    },
    {
      "cell_type": "code",
      "metadata": {
        "id": "MGpGuu78xRFa"
      },
      "source": [
        "import pandas as pd"
      ],
      "execution_count": 1,
      "outputs": []
    },
    {
      "cell_type": "code",
      "metadata": {
        "id": "ITYFFxbDctbH"
      },
      "source": [
        "df=pd.DataFrame({'Year':[1986,1986,1985,1986,1987],'WHO region':['Western Pacific','Americas','Africa','Americas','Americas'],'Country Beverage':['VietNam','Uruguay','Cte d lvoire','Colombia','Saint kitts & Nevis'],'Types':['wine','other','wine','beer','beer'],'Display Value':[0.00,0.50,1.62,4.27,1.98]})"
      ],
      "execution_count": 4,
      "outputs": []
    },
    {
      "cell_type": "code",
      "metadata": {
        "colab": {
          "base_uri": "https://localhost:8080/",
          "height": 206
        },
        "id": "h9AY_Of5d_TQ",
        "outputId": "bc8038fb-9bd2-4b4f-cf3c-afc72ec9aeea"
      },
      "source": [
        "df"
      ],
      "execution_count": 5,
      "outputs": [
        {
          "output_type": "execute_result",
          "data": {
            "text/html": [
              "<div>\n",
              "<style scoped>\n",
              "    .dataframe tbody tr th:only-of-type {\n",
              "        vertical-align: middle;\n",
              "    }\n",
              "\n",
              "    .dataframe tbody tr th {\n",
              "        vertical-align: top;\n",
              "    }\n",
              "\n",
              "    .dataframe thead th {\n",
              "        text-align: right;\n",
              "    }\n",
              "</style>\n",
              "<table border=\"1\" class=\"dataframe\">\n",
              "  <thead>\n",
              "    <tr style=\"text-align: right;\">\n",
              "      <th></th>\n",
              "      <th>Year</th>\n",
              "      <th>WHO region</th>\n",
              "      <th>Country Beverage</th>\n",
              "      <th>Types</th>\n",
              "      <th>Display Value</th>\n",
              "    </tr>\n",
              "  </thead>\n",
              "  <tbody>\n",
              "    <tr>\n",
              "      <th>0</th>\n",
              "      <td>1986</td>\n",
              "      <td>Western Pacific</td>\n",
              "      <td>VietNam</td>\n",
              "      <td>wine</td>\n",
              "      <td>0.00</td>\n",
              "    </tr>\n",
              "    <tr>\n",
              "      <th>1</th>\n",
              "      <td>1986</td>\n",
              "      <td>Americas</td>\n",
              "      <td>Uruguay</td>\n",
              "      <td>other</td>\n",
              "      <td>0.50</td>\n",
              "    </tr>\n",
              "    <tr>\n",
              "      <th>2</th>\n",
              "      <td>1985</td>\n",
              "      <td>Africa</td>\n",
              "      <td>Cte d lvoire</td>\n",
              "      <td>wine</td>\n",
              "      <td>1.62</td>\n",
              "    </tr>\n",
              "    <tr>\n",
              "      <th>3</th>\n",
              "      <td>1986</td>\n",
              "      <td>Americas</td>\n",
              "      <td>Colombia</td>\n",
              "      <td>beer</td>\n",
              "      <td>4.27</td>\n",
              "    </tr>\n",
              "    <tr>\n",
              "      <th>4</th>\n",
              "      <td>1987</td>\n",
              "      <td>Americas</td>\n",
              "      <td>Saint kitts &amp; Nevis</td>\n",
              "      <td>beer</td>\n",
              "      <td>1.98</td>\n",
              "    </tr>\n",
              "  </tbody>\n",
              "</table>\n",
              "</div>"
            ],
            "text/plain": [
              "   Year       WHO region     Country Beverage  Types  Display Value\n",
              "0  1986  Western Pacific              VietNam   wine           0.00\n",
              "1  1986         Americas              Uruguay  other           0.50\n",
              "2  1985           Africa         Cte d lvoire   wine           1.62\n",
              "3  1986         Americas             Colombia   beer           4.27\n",
              "4  1987         Americas  Saint kitts & Nevis   beer           1.98"
            ]
          },
          "metadata": {},
          "execution_count": 5
        }
      ]
    },
    {
      "cell_type": "code",
      "metadata": {
        "id": "dnMXPn-zevcI"
      },
      "source": [
        "df1=df.drop_duplicates('WHO region')"
      ],
      "execution_count": 6,
      "outputs": []
    },
    {
      "cell_type": "code",
      "metadata": {
        "colab": {
          "base_uri": "https://localhost:8080/",
          "height": 143
        },
        "id": "Te6znZ6TfBo3",
        "outputId": "038ad906-2a09-499e-df20-e8725d423885"
      },
      "source": [
        "df1"
      ],
      "execution_count": 8,
      "outputs": [
        {
          "output_type": "execute_result",
          "data": {
            "text/html": [
              "<div>\n",
              "<style scoped>\n",
              "    .dataframe tbody tr th:only-of-type {\n",
              "        vertical-align: middle;\n",
              "    }\n",
              "\n",
              "    .dataframe tbody tr th {\n",
              "        vertical-align: top;\n",
              "    }\n",
              "\n",
              "    .dataframe thead th {\n",
              "        text-align: right;\n",
              "    }\n",
              "</style>\n",
              "<table border=\"1\" class=\"dataframe\">\n",
              "  <thead>\n",
              "    <tr style=\"text-align: right;\">\n",
              "      <th></th>\n",
              "      <th>Year</th>\n",
              "      <th>WHO region</th>\n",
              "      <th>Country Beverage</th>\n",
              "      <th>Types</th>\n",
              "      <th>Display Value</th>\n",
              "    </tr>\n",
              "  </thead>\n",
              "  <tbody>\n",
              "    <tr>\n",
              "      <th>0</th>\n",
              "      <td>1986</td>\n",
              "      <td>Western Pacific</td>\n",
              "      <td>VietNam</td>\n",
              "      <td>wine</td>\n",
              "      <td>0.00</td>\n",
              "    </tr>\n",
              "    <tr>\n",
              "      <th>1</th>\n",
              "      <td>1986</td>\n",
              "      <td>Americas</td>\n",
              "      <td>Uruguay</td>\n",
              "      <td>other</td>\n",
              "      <td>0.50</td>\n",
              "    </tr>\n",
              "    <tr>\n",
              "      <th>2</th>\n",
              "      <td>1985</td>\n",
              "      <td>Africa</td>\n",
              "      <td>Cte d lvoire</td>\n",
              "      <td>wine</td>\n",
              "      <td>1.62</td>\n",
              "    </tr>\n",
              "  </tbody>\n",
              "</table>\n",
              "</div>"
            ],
            "text/plain": [
              "   Year       WHO region Country Beverage  Types  Display Value\n",
              "0  1986  Western Pacific          VietNam   wine           0.00\n",
              "1  1986         Americas          Uruguay  other           0.50\n",
              "2  1985           Africa     Cte d lvoire   wine           1.62"
            ]
          },
          "metadata": {},
          "execution_count": 8
        }
      ]
    },
    {
      "cell_type": "markdown",
      "metadata": {
        "id": "dRD59G5ZfgWG"
      },
      "source": [
        "#Write a Pandas program to find out the alcohol consumption details in the year '1987' or '1989' from the world alcohol consumption dataset."
      ]
    },
    {
      "cell_type": "code",
      "metadata": {
        "colab": {
          "base_uri": "https://localhost:8080/",
          "height": 81
        },
        "id": "pgbVnjTgfj9d",
        "outputId": "cd6c6372-ab9e-44c1-8b4a-46b4eec981d3"
      },
      "source": [
        "df[(df['Year']==1987) | (df['Year']==1989)]"
      ],
      "execution_count": 9,
      "outputs": [
        {
          "output_type": "execute_result",
          "data": {
            "text/html": [
              "<div>\n",
              "<style scoped>\n",
              "    .dataframe tbody tr th:only-of-type {\n",
              "        vertical-align: middle;\n",
              "    }\n",
              "\n",
              "    .dataframe tbody tr th {\n",
              "        vertical-align: top;\n",
              "    }\n",
              "\n",
              "    .dataframe thead th {\n",
              "        text-align: right;\n",
              "    }\n",
              "</style>\n",
              "<table border=\"1\" class=\"dataframe\">\n",
              "  <thead>\n",
              "    <tr style=\"text-align: right;\">\n",
              "      <th></th>\n",
              "      <th>Year</th>\n",
              "      <th>WHO region</th>\n",
              "      <th>Country Beverage</th>\n",
              "      <th>Types</th>\n",
              "      <th>Display Value</th>\n",
              "    </tr>\n",
              "  </thead>\n",
              "  <tbody>\n",
              "    <tr>\n",
              "      <th>4</th>\n",
              "      <td>1987</td>\n",
              "      <td>Americas</td>\n",
              "      <td>Saint kitts &amp; Nevis</td>\n",
              "      <td>beer</td>\n",
              "      <td>1.98</td>\n",
              "    </tr>\n",
              "  </tbody>\n",
              "</table>\n",
              "</div>"
            ],
            "text/plain": [
              "   Year WHO region     Country Beverage Types  Display Value\n",
              "4  1987   Americas  Saint kitts & Nevis  beer           1.98"
            ]
          },
          "metadata": {},
          "execution_count": 9
        }
      ]
    }
  ]
}